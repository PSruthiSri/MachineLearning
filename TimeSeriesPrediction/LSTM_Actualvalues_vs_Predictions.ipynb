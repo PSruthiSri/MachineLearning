{
 "cells": [
  {
   "cell_type": "code",
   "execution_count": 108,
   "metadata": {},
   "outputs": [],
   "source": [
    "import pandas as pd\n",
    "import matplotlib.pyplot as plt\n",
    "from sklearn.preprocessing import StandardScaler"
   ]
  },
  {
   "cell_type": "code",
   "execution_count": 269,
   "metadata": {},
   "outputs": [],
   "source": [
    "data = pd.read_csv('MSFT.csv')\n",
    "# data = data.loc[:, 'Close'].va"
   ]
  },
  {
   "cell_type": "code",
   "execution_count": 270,
   "metadata": {},
   "outputs": [],
   "source": [
    "data1 = data['Close']"
   ]
  },
  {
   "cell_type": "code",
   "execution_count": 271,
   "metadata": {},
   "outputs": [],
   "source": [
    "X = data1.values.reshape(-1,1)"
   ]
  },
  {
   "cell_type": "code",
   "execution_count": 282,
   "metadata": {},
   "outputs": [],
   "source": [
    "train, test = X[:int(len(X)*.8)], X[int(len(X)*.8):]\n",
    "temp = test"
   ]
  },
  {
   "cell_type": "code",
   "execution_count": 273,
   "metadata": {},
   "outputs": [],
   "source": [
    "scalerx = StandardScaler().fit(train)\n",
    "values = scalerx.transform(train)"
   ]
  },
  {
   "cell_type": "code",
   "execution_count": 274,
   "metadata": {},
   "outputs": [],
   "source": [
    "x_train = values[:-1]\n",
    "y_train = values[1:]"
   ]
  },
  {
   "cell_type": "code",
   "execution_count": 275,
   "metadata": {},
   "outputs": [
    {
     "data": {
      "text/plain": [
       "(6924, 1)"
      ]
     },
     "execution_count": 275,
     "metadata": {},
     "output_type": "execute_result"
    }
   ],
   "source": [
    "x_train.shape"
   ]
  },
  {
   "cell_type": "code",
   "execution_count": 276,
   "metadata": {},
   "outputs": [],
   "source": [
    "x_train = x_train.reshape((x_train.shape[0], 1, 1))\n",
    "# y_train = y_train.reshape((y_train.shape[0], 1, 1))"
   ]
  },
  {
   "cell_type": "code",
   "execution_count": 277,
   "metadata": {},
   "outputs": [
    {
     "data": {
      "text/plain": [
       "(6924, 1, 1)"
      ]
     },
     "execution_count": 277,
     "metadata": {},
     "output_type": "execute_result"
    }
   ],
   "source": [
    "x_train.shape"
   ]
  },
  {
   "cell_type": "code",
   "execution_count": 278,
   "metadata": {},
   "outputs": [],
   "source": [
    "model1 = Sequential()\n",
    "model1.add(LSTM(32, input_shape=(None,1)))\n",
    "# model.add(Dropout(0.2))\n",
    "model1.add(Dense(1))\n",
    "model1.compile(loss='mean_squared_error', optimizer='adam')"
   ]
  },
  {
   "cell_type": "code",
   "execution_count": 279,
   "metadata": {
    "scrolled": true
   },
   "outputs": [
    {
     "name": "stdout",
     "output_type": "stream",
     "text": [
      "Epoch 1/32\n",
      "6924/6924 [==============================] - 3s 493us/step - loss: 0.2786\n",
      "Epoch 2/32\n",
      "6924/6924 [==============================] - 1s 154us/step - loss: 0.0027\n",
      "Epoch 3/32\n",
      "6924/6924 [==============================] - 1s 147us/step - loss: 0.0024\n",
      "Epoch 4/32\n",
      "6924/6924 [==============================] - 1s 151us/step - loss: 0.0023\n",
      "Epoch 5/32\n",
      "6924/6924 [==============================] - 1s 158us/step - loss: 0.0022\n",
      "Epoch 6/32\n",
      "6924/6924 [==============================] - 1s 159us/step - loss: 0.0021\n",
      "Epoch 7/32\n",
      "6924/6924 [==============================] - 1s 147us/step - loss: 0.0019\n",
      "Epoch 8/32\n",
      "6924/6924 [==============================] - 1s 148us/step - loss: 0.0018\n",
      "Epoch 9/32\n",
      "6924/6924 [==============================] - 1s 146us/step - loss: 0.0017\n",
      "Epoch 10/32\n",
      "6924/6924 [==============================] - 1s 154us/step - loss: 0.0016\n",
      "Epoch 11/32\n",
      "6924/6924 [==============================] - 1s 161us/step - loss: 0.0015\n",
      "Epoch 12/32\n",
      "6924/6924 [==============================] - 1s 162us/step - loss: 0.0014\n",
      "Epoch 13/32\n",
      "6924/6924 [==============================] - 1s 156us/step - loss: 0.0014\n",
      "Epoch 14/32\n",
      "6924/6924 [==============================] - 1s 149us/step - loss: 0.0014\n",
      "Epoch 15/32\n",
      "6924/6924 [==============================] - 1s 156us/step - loss: 0.0013\n",
      "Epoch 16/32\n",
      "6924/6924 [==============================] - 1s 151us/step - loss: 0.0014\n",
      "Epoch 17/32\n",
      "6924/6924 [==============================] - 1s 154us/step - loss: 0.0014\n",
      "Epoch 18/32\n",
      "6924/6924 [==============================] - 1s 156us/step - loss: 0.0013\n",
      "Epoch 19/32\n",
      "6924/6924 [==============================] - 1s 167us/step - loss: 0.0014\n",
      "Epoch 20/32\n",
      "6924/6924 [==============================] - 1s 160us/step - loss: 0.0013\n",
      "Epoch 21/32\n",
      "6924/6924 [==============================] - 1s 151us/step - loss: 0.0013\n",
      "Epoch 22/32\n",
      "6924/6924 [==============================] - 1s 153us/step - loss: 0.0014\n",
      "Epoch 23/32\n",
      "6924/6924 [==============================] - 1s 156us/step - loss: 0.0014\n",
      "Epoch 24/32\n",
      "6924/6924 [==============================] - 1s 153us/step - loss: 0.0013\n",
      "Epoch 25/32\n",
      "6924/6924 [==============================] - 1s 150us/step - loss: 0.0014\n",
      "Epoch 26/32\n",
      "6924/6924 [==============================] - 1s 152us/step - loss: 0.0013\n",
      "Epoch 27/32\n",
      "6924/6924 [==============================] - 1s 158us/step - loss: 0.0013\n",
      "Epoch 28/32\n",
      "6924/6924 [==============================] - 1s 150us/step - loss: 0.0013\n",
      "Epoch 29/32\n",
      "6924/6924 [==============================] - 1s 166us/step - loss: 0.0014\n",
      "Epoch 30/32\n",
      "6924/6924 [==============================] - 1s 154us/step - loss: 0.0013\n",
      "Epoch 31/32\n",
      "6924/6924 [==============================] - 1s 156us/step - loss: 0.0013\n",
      "Epoch 32/32\n",
      "6924/6924 [==============================] - 1s 160us/step - loss: 0.0014\n"
     ]
    }
   ],
   "source": [
    "history = model1.fit(x_train, y_train, batch_size=16, epochs=32)"
   ]
  },
  {
   "cell_type": "code",
   "execution_count": 283,
   "metadata": {},
   "outputs": [],
   "source": [
    "test = temp\n",
    "x_test = test\n",
    "test = scalerx.fit_transform(test)\n",
    "test = test.reshape((test.shape[0], 1, 1))"
   ]
  },
  {
   "cell_type": "code",
   "execution_count": 284,
   "metadata": {},
   "outputs": [],
   "source": [
    "scaled_predictions = model1.predict(test)\n",
    "predictions = scalerx.inverse_transform(scaled_predictions)"
   ]
  },
  {
   "cell_type": "code",
   "execution_count": 289,
   "metadata": {},
   "outputs": [
    {
     "data": {
      "text/plain": [
       "<matplotlib.legend.Legend at 0x171da8210>"
      ]
     },
     "execution_count": 289,
     "metadata": {},
     "output_type": "execute_result"
    },
    {
     "data": {
      "image/png": "[encoded data removed]",
      "text/plain": [
       "<Figure size 432x288 with 1 Axes>"
      ]
     },
     "metadata": {
      "needs_background": "light"
     },
     "output_type": "display_data"
    }
   ],
   "source": [
    "plt.plot(predictions, color='red', label=\"Predictions\")\n",
    "plt.plot(x_test, color='green', label = 'Actual Values')\n",
    "plt.legend()"
   ]
  },
  {
   "cell_type": "code",
   "execution_count": null,
   "metadata": {},
   "outputs": [],
   "source": []
  },
  {
   "cell_type": "code",
   "execution_count": null,
   "metadata": {},
   "outputs": [],
   "source": []
  }
 ],
 "metadata": {
  "kernelspec": {
   "display_name": "Python 3",
   "language": "python",
   "name": "python3"
  },
  "language_info": {
   "codemirror_mode": {
    "name": "ipython",
    "version": 3
   },
   "file_extension": ".py",
   "mimetype": "text/x-python",
   "name": "python",
   "nbconvert_exporter": "python",
   "pygments_lexer": "ipython3",
   "version": "3.7.4"
  }
 },
 "nbformat": 4,
 "nbformat_minor": 4
}
