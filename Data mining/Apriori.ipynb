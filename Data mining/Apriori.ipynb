{
 "cells": [
  {
   "cell_type": "code",
   "execution_count": 1,
   "metadata": {
    "id": "RSYWH21-Ok3y"
   },
   "outputs": [],
   "source": [
    "# importing pandas and numpy\n",
    "import pandas as pd\n",
    "import numpy as np\n",
    "import collections\n",
    "import itertools as it\n",
    "import time\n",
    "import re\n",
    "support=50\n",
    "confidence = 0.7"
   ]
  },
  {
   "cell_type": "code",
   "execution_count": 2,
   "metadata": {
    "colab": {
     "base_uri": "https://localhost:8080/",
     "height": 159
    },
    "id": "1z5Cvx0b3SCy",
    "outputId": "2337fee0-2bb5-435d-ef12-7752c9144d6b"
   },
   "outputs": [
    {
     "data": {
      "text/html": [
       "<div>\n",
       "<style scoped>\n",
       "    .dataframe tbody tr th:only-of-type {\n",
       "        vertical-align: middle;\n",
       "    }\n",
       "\n",
       "    .dataframe tbody tr th {\n",
       "        vertical-align: top;\n",
       "    }\n",
       "\n",
       "    .dataframe thead th {\n",
       "        text-align: right;\n",
       "    }\n",
       "</style>\n",
       "<table border=\"1\" class=\"dataframe\">\n",
       "  <thead>\n",
       "    <tr style=\"text-align: right;\">\n",
       "      <th></th>\n",
       "      <th>0</th>\n",
       "      <th>1</th>\n",
       "      <th>2</th>\n",
       "      <th>3</th>\n",
       "      <th>4</th>\n",
       "      <th>5</th>\n",
       "      <th>6</th>\n",
       "      <th>7</th>\n",
       "      <th>8</th>\n",
       "      <th>9</th>\n",
       "      <th>...</th>\n",
       "      <th>91</th>\n",
       "      <th>92</th>\n",
       "      <th>93</th>\n",
       "      <th>94</th>\n",
       "      <th>95</th>\n",
       "      <th>96</th>\n",
       "      <th>97</th>\n",
       "      <th>98</th>\n",
       "      <th>99</th>\n",
       "      <th>100</th>\n",
       "    </tr>\n",
       "  </thead>\n",
       "  <tbody>\n",
       "    <tr>\n",
       "      <th>0</th>\n",
       "      <td>Up</td>\n",
       "      <td>Up</td>\n",
       "      <td>Down</td>\n",
       "      <td>Up</td>\n",
       "      <td>Down</td>\n",
       "      <td>Up</td>\n",
       "      <td>Up</td>\n",
       "      <td>Down</td>\n",
       "      <td>Down</td>\n",
       "      <td>Up</td>\n",
       "      <td>...</td>\n",
       "      <td>Up</td>\n",
       "      <td>Up</td>\n",
       "      <td>Down</td>\n",
       "      <td>Up</td>\n",
       "      <td>Down</td>\n",
       "      <td>Down</td>\n",
       "      <td>Down</td>\n",
       "      <td>Up</td>\n",
       "      <td>Down</td>\n",
       "      <td>ALL</td>\n",
       "    </tr>\n",
       "    <tr>\n",
       "      <th>1</th>\n",
       "      <td>Up</td>\n",
       "      <td>Down</td>\n",
       "      <td>Up</td>\n",
       "      <td>Down</td>\n",
       "      <td>Up</td>\n",
       "      <td>Down</td>\n",
       "      <td>Down</td>\n",
       "      <td>Down</td>\n",
       "      <td>Down</td>\n",
       "      <td>Up</td>\n",
       "      <td>...</td>\n",
       "      <td>Up</td>\n",
       "      <td>Up</td>\n",
       "      <td>Down</td>\n",
       "      <td>Down</td>\n",
       "      <td>Down</td>\n",
       "      <td>Down</td>\n",
       "      <td>Down</td>\n",
       "      <td>Up</td>\n",
       "      <td>Up</td>\n",
       "      <td>ALL</td>\n",
       "    </tr>\n",
       "  </tbody>\n",
       "</table>\n",
       "<p>2 rows × 101 columns</p>\n",
       "</div>"
      ],
      "text/plain": [
       "  0     1     2     3     4     5     6     7     8   9    ... 91  92    93   \\\n",
       "0  Up    Up  Down    Up  Down    Up    Up  Down  Down  Up  ...  Up  Up  Down   \n",
       "1  Up  Down    Up  Down    Up  Down  Down  Down  Down  Up  ...  Up  Up  Down   \n",
       "\n",
       "    94    95    96    97  98    99   100  \n",
       "0    Up  Down  Down  Down  Up  Down  ALL  \n",
       "1  Down  Down  Down  Down  Up    Up  ALL  \n",
       "\n",
       "[2 rows x 101 columns]"
      ]
     },
     "execution_count": 2,
     "metadata": {},
     "output_type": "execute_result"
    }
   ],
   "source": [
    "\n",
    "data = pd.read_csv('association-rule-test-data.txt', sep=\"\\t\", header=None)\n",
    "data.head(2)"
   ]
  },
  {
   "cell_type": "code",
   "execution_count": 3,
   "metadata": {
    "colab": {
     "base_uri": "https://localhost:8080/",
     "height": 159
    },
    "id": "TByu0T-hOvDV",
    "outputId": "e1dfbdb4-0b85-4011-ab84-413d6343eee5"
   },
   "outputs": [
    {
     "data": {
      "text/html": [
       "<div>\n",
       "<style scoped>\n",
       "    .dataframe tbody tr th:only-of-type {\n",
       "        vertical-align: middle;\n",
       "    }\n",
       "\n",
       "    .dataframe tbody tr th {\n",
       "        vertical-align: top;\n",
       "    }\n",
       "\n",
       "    .dataframe thead th {\n",
       "        text-align: right;\n",
       "    }\n",
       "</style>\n",
       "<table border=\"1\" class=\"dataframe\">\n",
       "  <thead>\n",
       "    <tr style=\"text-align: right;\">\n",
       "      <th></th>\n",
       "      <th>0</th>\n",
       "      <th>1</th>\n",
       "      <th>2</th>\n",
       "      <th>3</th>\n",
       "      <th>4</th>\n",
       "      <th>5</th>\n",
       "      <th>6</th>\n",
       "      <th>7</th>\n",
       "      <th>8</th>\n",
       "      <th>9</th>\n",
       "      <th>...</th>\n",
       "      <th>91</th>\n",
       "      <th>92</th>\n",
       "      <th>93</th>\n",
       "      <th>94</th>\n",
       "      <th>95</th>\n",
       "      <th>96</th>\n",
       "      <th>97</th>\n",
       "      <th>98</th>\n",
       "      <th>99</th>\n",
       "      <th>100</th>\n",
       "    </tr>\n",
       "  </thead>\n",
       "  <tbody>\n",
       "    <tr>\n",
       "      <th>0</th>\n",
       "      <td>G1_Up</td>\n",
       "      <td>G2_Up</td>\n",
       "      <td>G3_Down</td>\n",
       "      <td>G4_Up</td>\n",
       "      <td>G5_Down</td>\n",
       "      <td>G6_Up</td>\n",
       "      <td>G7_Up</td>\n",
       "      <td>G8_Down</td>\n",
       "      <td>G9_Down</td>\n",
       "      <td>G10_Up</td>\n",
       "      <td>...</td>\n",
       "      <td>G92_Up</td>\n",
       "      <td>G93_Up</td>\n",
       "      <td>G94_Down</td>\n",
       "      <td>G95_Up</td>\n",
       "      <td>G96_Down</td>\n",
       "      <td>G97_Down</td>\n",
       "      <td>G98_Down</td>\n",
       "      <td>G99_Up</td>\n",
       "      <td>G100_Down</td>\n",
       "      <td>ALL</td>\n",
       "    </tr>\n",
       "    <tr>\n",
       "      <th>1</th>\n",
       "      <td>G1_Up</td>\n",
       "      <td>G2_Down</td>\n",
       "      <td>G3_Up</td>\n",
       "      <td>G4_Down</td>\n",
       "      <td>G5_Up</td>\n",
       "      <td>G6_Down</td>\n",
       "      <td>G7_Down</td>\n",
       "      <td>G8_Down</td>\n",
       "      <td>G9_Down</td>\n",
       "      <td>G10_Up</td>\n",
       "      <td>...</td>\n",
       "      <td>G92_Up</td>\n",
       "      <td>G93_Up</td>\n",
       "      <td>G94_Down</td>\n",
       "      <td>G95_Down</td>\n",
       "      <td>G96_Down</td>\n",
       "      <td>G97_Down</td>\n",
       "      <td>G98_Down</td>\n",
       "      <td>G99_Up</td>\n",
       "      <td>G100_Up</td>\n",
       "      <td>ALL</td>\n",
       "    </tr>\n",
       "  </tbody>\n",
       "</table>\n",
       "<p>2 rows × 101 columns</p>\n",
       "</div>"
      ],
      "text/plain": [
       "     0        1        2        3        4        5        6        7    \\\n",
       "0  G1_Up    G2_Up  G3_Down    G4_Up  G5_Down    G6_Up    G7_Up  G8_Down   \n",
       "1  G1_Up  G2_Down    G3_Up  G4_Down    G5_Up  G6_Down  G7_Down  G8_Down   \n",
       "\n",
       "       8       9    ...     91      92        93        94        95   \\\n",
       "0  G9_Down  G10_Up  ...  G92_Up  G93_Up  G94_Down    G95_Up  G96_Down   \n",
       "1  G9_Down  G10_Up  ...  G92_Up  G93_Up  G94_Down  G95_Down  G96_Down   \n",
       "\n",
       "        96        97      98         99   100  \n",
       "0  G97_Down  G98_Down  G99_Up  G100_Down  ALL  \n",
       "1  G97_Down  G98_Down  G99_Up    G100_Up  ALL  \n",
       "\n",
       "[2 rows x 101 columns]"
      ]
     },
     "execution_count": 3,
     "metadata": {},
     "output_type": "execute_result"
    }
   ],
   "source": [
    "# Appending G1 to the data\n",
    "for i in range(len(data.columns)-1):\n",
    "  data[:][i] = \"G\"+str(i+1)+ \"_\"+data.iloc[:][i]\n",
    "data.head(2)"
   ]
  },
  {
   "cell_type": "code",
   "execution_count": 4,
   "metadata": {
    "id": "hakA5tJFk3gQ"
   },
   "outputs": [],
   "source": [
    "# column_values = data.iloc[:,:-1].values.ravel()\n",
    "# unique_values =  pd.unique(column_values)"
   ]
  },
  {
   "cell_type": "code",
   "execution_count": 5,
   "metadata": {
    "id": "ViUxfUVjciwy"
   },
   "outputs": [],
   "source": [
    "freq_item_set = {}\n",
    "last_freq_item_sets = {}"
   ]
  },
  {
   "cell_type": "code",
   "execution_count": 6,
   "metadata": {
    "id": "GmHSWjlRrCDR"
   },
   "outputs": [],
   "source": [
    "c={}\n",
    "for i in range(len(data.columns)):\n",
    "  c.update(collections.Counter(data.iloc[:,i].values))"
   ]
  },
  {
   "cell_type": "code",
   "execution_count": 7,
   "metadata": {
    "colab": {
     "base_uri": "https://localhost:8080/",
     "height": 52
    },
    "id": "Nv9cts0_3lwk",
    "outputId": "3ea9f8a4-c6e0-4ce8-b873-fa779a6af48e"
   },
   "outputs": [
    {
     "name": "stdout",
     "output_type": "stream",
     "text": [
      "109\n",
      "--- 1.360398530960083 seconds ---\n"
     ]
    }
   ],
   "source": [
    "start_time = time.time()\n",
    "from collections import defaultdict\n",
    "freq_item=[]\n",
    "dict2={}\n",
    "for key in c:\n",
    "  if c[key] >= support:\n",
    "    freq_item.append(tuple([key]))\n",
    "    dict2[tuple([key])] = c[key]\n",
    "print(len(freq_item))\n",
    "\n",
    "\n",
    "# for key in c.keys():\n",
    "#   k = tuple([key])\n",
    "#   dict2[k]=c[key]\n",
    "dict1=defaultdict(list)\n",
    "for key in dict2.keys():\n",
    "  for i in range(len(data)):\n",
    "    if key in data.loc[i,:].values:\n",
    "      dict1[key].append(i)\n",
    "temp = list(dict1.keys())\n",
    "for key in temp:\n",
    "  if key not in dict2.keys():\n",
    "    del dict1[key]\n",
    "print(\"--- %s seconds ---\" % (time.time() - start_time))\n",
    "freq_item_set.update(dict2)"
   ]
  },
  {
   "cell_type": "code",
   "execution_count": 8,
   "metadata": {
    "id": "nFtLt6GaS0Tj"
   },
   "outputs": [],
   "source": [
    "\n",
    "def generate_combinations(f,length):\n",
    "  start_time = time.time()\n",
    "  comb_freq_items = []\n",
    "  for i in it.combinations(f,2):\n",
    "    temp=tuple(sorted(set(i[0]+i[1])))\n",
    "    # print(i[0]+i[1])\n",
    "    if len(temp) == length:\n",
    "      comb_freq_items.append(temp)\n",
    "  comb_freq_items=set(comb_freq_items)\n",
    "  print(\"---generate_combinations %s seconds ---\" % (time.time() - start_time))\n",
    "  return comb_freq_items"
   ]
  },
  {
   "cell_type": "code",
   "execution_count": 9,
   "metadata": {
    "id": "_sh_fBJAzfI6"
   },
   "outputs": [],
   "source": [
    "\n",
    "def func_dict(dict1,dict_count,items_freq):\n",
    "  start_time = time.time()  \n",
    "  d1=defaultdict(list)  # gives rows of each n-1 len combo\n",
    "  d2={}     # gives count of each n-1 len combo\n",
    "  # print(items_freq)\n",
    "  for i in items_freq:\n",
    "    count = 0\n",
    "    # print(i)\n",
    "    if i[:-1] in dict1.keys():\n",
    "      col_num1 = re.findall(\"\\d+\", i[-1])\n",
    "      if col_num1 ==[]:\n",
    "        col_num = len(data.columns)\n",
    "      else:\n",
    "        col_num = int(col_num1[0])\n",
    "      for j in dict1[i[:-1]]:\n",
    "        if i[-1] == data[col_num-1][j]:\n",
    "          d1[i].append(j)\n",
    "          count = count + 1\n",
    "          # print(count)\n",
    "      if count >= support:\n",
    "        # print(count)\n",
    "        d2[i] = count\n",
    "  freq_item_set.update(d2)\n",
    "  temp = list(d1.keys())\n",
    "  for key in temp:\n",
    "    if key not in d2.keys():\n",
    "      del d1[key]\n",
    "  print(\"---func_dict %s seconds ---\" % (time.time() - start_time))\n",
    "  \n",
    "  return (d1,d2)\n"
   ]
  },
  {
   "cell_type": "code",
   "execution_count": 10,
   "metadata": {
    "colab": {
     "base_uri": "https://localhost:8080/",
     "height": 312
    },
    "id": "Q0o6A-JRuNmr",
    "outputId": "fdac314b-0631-47b4-a3b8-1dbfb1a8f317"
   },
   "outputs": [
    {
     "name": "stdout",
     "output_type": "stream",
     "text": [
      "---generate_combinations 0.005985260009765625 seconds ---\n",
      "---func_dict 4.327472925186157 seconds ---\n",
      "63\n",
      "---generate_combinations 0.0009982585906982422 seconds ---\n",
      "---func_dict 0.18944263458251953 seconds ---\n",
      "2\n",
      "---generate_combinations 0.0 seconds ---\n",
      "---func_dict 0.0009975433349609375 seconds ---\n",
      "0\n",
      "Wall time: 4.53 s\n"
     ]
    }
   ],
   "source": [
    "%%time\n",
    "i=1\n",
    "support_count_dict={}\n",
    "\n",
    "while(freq_item):\n",
    "  i=i+1\n",
    "  comb_freq_items=generate_combinations(freq_item,i)\n",
    "  # print(comb_freq_items)\n",
    "  freq_item=[]\n",
    "  (dict1,dict2) = func_dict(dict1,dict2,comb_freq_items)\n",
    "  # print(dict1)\n",
    "  # print(dict2)\n",
    "      # support_count_dict[j]=count_comb\n",
    "  freq_item = list(dict2.keys())\n",
    "  print(len(freq_item))\n",
    "  if freq_item != []:\n",
    "    last_freq_item_sets = freq_item\n",
    "\n"
   ]
  },
  {
   "cell_type": "code",
   "execution_count": 11,
   "metadata": {
    "colab": {
     "base_uri": "https://localhost:8080/",
     "height": 35
    },
    "id": "J5ICepv9bbbq",
    "outputId": "705ff26d-8fcb-459d-9186-d396d104e0ec"
   },
   "outputs": [
    {
     "data": {
      "text/plain": [
       "174"
      ]
     },
     "execution_count": 11,
     "metadata": {},
     "output_type": "execute_result"
    }
   ],
   "source": [
    "len(freq_item_set)"
   ]
  },
  {
   "cell_type": "code",
   "execution_count": 12,
   "metadata": {
    "colab": {
     "base_uri": "https://localhost:8080/",
     "height": 35
    },
    "id": "oDTsEUCnzfLf",
    "outputId": "664c262a-9286-41da-b972-827282bcf67d"
   },
   "outputs": [
    {
     "data": {
      "text/plain": [
       "[('G59_Up', 'G72_Up', 'G96_Down'), ('G59_Up', 'G72_Up', 'G82_Down')]"
      ]
     },
     "execution_count": 12,
     "metadata": {},
     "output_type": "execute_result"
    }
   ],
   "source": [
    "last_freq_item_sets"
   ]
  },
  {
   "cell_type": "code",
   "execution_count": 13,
   "metadata": {
    "id": "AEgeTGzBzfXX"
   },
   "outputs": [],
   "source": [
    "def subs(l):\n",
    "    if l == []:\n",
    "        return [[]]\n",
    "\n",
    "    x = subs(l[1:])\n",
    "\n",
    "    return x + [[l[0]] + y for y in x]"
   ]
  },
  {
   "cell_type": "code",
   "execution_count": 14,
   "metadata": {
    "id": "KVL_b80pnmLC"
   },
   "outputs": [],
   "source": [
    "def func_conf(head,body):\n",
    "  if (freq_item_set[tuple(sorted(head+body))]/freq_item_set[tuple(sorted(head))]) >= confidence:\n",
    "    return (head,body)\n",
    "  else:\n",
    "    return ([],[])"
   ]
  },
  {
   "cell_type": "code",
   "execution_count": 15,
   "metadata": {
    "id": "4Iqiwh7nnib-"
   },
   "outputs": [],
   "source": [
    "head_list = []\n",
    "body_list = []\n",
    "rule_list = []\n",
    "for k in last_freq_item_sets:\n",
    "  rule_items=list(k)\n",
    "  for li1 in subs(rule_items):\n",
    "    if li1 == [] or li1 == rule_items:\n",
    "      continue\n",
    "    else:\n",
    "      # print(set(i)-set(last_freq_item_sets[0]))\n",
    "      body = [i for i in li1 + rule_items if i not in li1 or i not in rule_items]\n",
    "      head = li1\n",
    "      (head,body) = func_conf(head,body)\n",
    "      if head != []:\n",
    "        head_list.append(head)\n",
    "        body_list.append(body)\n",
    "        rule_list.append(head + [\"->\"] + body)"
   ]
  },
  {
   "cell_type": "code",
   "execution_count": 16,
   "metadata": {
    "id": "Lxv_PgSu5aVR"
   },
   "outputs": [],
   "source": [
    "class asso_rule:\n",
    "  def template1(entity,cardinality,items):\n",
    "    HEAD = []\n",
    "    count = 0\n",
    "    if entity == \"HEAD\": \n",
    "      if cardinality == \"ANY\":\n",
    "        for i in head_list:\n",
    "          if any(item in items for item in i) == True:\n",
    "            count = count+1\n",
    "            HEAD.append(i)\n",
    "        return HEAD,count\n",
    "      elif cardinality == \"NONE\":\n",
    "        for i in head_list:\n",
    "          if any(item in items for item in i) == False:\n",
    "            count = count+1\n",
    "            HEAD.append(i)\n",
    "        return HEAD,count\n",
    "      else:\n",
    "        for n in head_list:\n",
    "          count = 0 \n",
    "          for m in items: \n",
    "            if m in n: \n",
    "              count = count + 1\n",
    "              if count == cardinality:\n",
    "                HEAD.append(n)\n",
    "                break  \n",
    "        return HEAD,len(HEAD)\n",
    "    elif entity == \"BODY\":\n",
    "      if cardinality == \"ANY\":\n",
    "        for i in body_list:\n",
    "          if any(item in items for item in i) == True:\n",
    "            count = count+1\n",
    "            HEAD.append(i)\n",
    "        return HEAD,count\n",
    "      elif cardinality == \"NONE\":\n",
    "        for i in body_list:\n",
    "          if any(item in items for item in i) == False:\n",
    "            count = count+1\n",
    "            HEAD.append(i)\n",
    "        return HEAD,count\n",
    "      else:\n",
    "        for n in body_list:\n",
    "          count = 0 \n",
    "          for m in items: \n",
    "            if m in n: \n",
    "              count = count + 1\n",
    "              if count == cardinality:\n",
    "                HEAD.append(n)\n",
    "                break  \n",
    "        return (HEAD,len(HEAD)) \n",
    "    elif entity == \"RULE\":\n",
    "      if cardinality == \"ANY\":\n",
    "        for i in rule_list:\n",
    "          if any(item in items for item in i) == True:\n",
    "            count = count+1\n",
    "            HEAD.append(i)\n",
    "        return HEAD,count\n",
    "      elif cardinality == \"NONE\":\n",
    "        for i in rule_list:\n",
    "          if any(item in items for item in i) == False:\n",
    "            count = count+1\n",
    "            HEAD.append(i)\n",
    "        return HEAD,count\n",
    "      else:\n",
    "        for n in rule_list:\n",
    "          count = 0 \n",
    "          for m in items: \n",
    "            if m in n: \n",
    "              count = count + 1\n",
    "              if count == cardinality:\n",
    "                HEAD.append(n)\n",
    "                break  \n",
    "        return (HEAD,len(HEAD))\n",
    "\n",
    "  def template2(entity,cardinality):\n",
    "    HEAD=[]\n",
    "    if entity==\"HEAD\":\n",
    "      for i in head_list:\n",
    "        if len(i)>= cardinality:\n",
    "          HEAD.append(i)\n",
    "    elif entity==\"BODY\":\n",
    "      for i in body_list:\n",
    "        if len(i)>= cardinality:\n",
    "          HEAD.append(i)\n",
    "    elif entity==\"RULE\":\n",
    "      for i in rule_list:\n",
    "        if len(i)>= cardinality+1:\n",
    "          HEAD.append(i)\n",
    "    return HEAD,len(HEAD)\n",
    "  \n",
    "  # def template3(\"1or1\", \"HEAD\", \"ANY\", ['G10_Down'], \"BODY\", 1, ['G59_UP'])\n",
    "  def template3(clause,entity1, *l):\n",
    "    con = re.findall(\"\\D+\", clause)[0]\n",
    "    if len(l)== 5:\n",
    "      cardinality1 = l[0] \n",
    "      item1 = l[1] \n",
    "      entity2 = l[2] \n",
    "      cardinality2 = l[3] \n",
    "      item2 = l[4]\n",
    "      clause1_list,cnt1 = asso_rule.template1(entity1,cardinality1,item1)\n",
    "      clause2_list,cnt2 = asso_rule.template1(entity2,cardinality2,item2) \n",
    "      clause1_tuple = tuple(tuple(sub) for sub in clause1_list)\n",
    "      clause2_tuple = tuple(tuple(sub) for sub in clause2_list)\n",
    "      if con == 'or':\n",
    "        final_tuple = set(clause1_tuple) | set(clause2_tuple)\n",
    "      elif con == 'and':\n",
    "        final_tuple = set(clause1_tuple) & set(clause2_tuple)\n",
    "    \n",
    "    \n",
    "    elif len(l)==4:\n",
    "      cardinality1 = l[0] \n",
    "      item1 = l[1] \n",
    "      entity2 = l[2] \n",
    "      cardinality2 = l[3]\n",
    "      clause1_list,cnt1 = asso_rule.template1(entity1,cardinality1,item1)\n",
    "      clause2_list,cnt2 = asso_rule.template2(entity2,cardinality2) \n",
    "      clause1_tuple = tuple(tuple(sub) for sub in clause1_list)\n",
    "      clause2_tuple = tuple(tuple(sub) for sub in clause2_list)\n",
    "      if con == 'or':\n",
    "        final_tuple = set(clause1_tuple) | set(clause2_tuple)\n",
    "      elif con == 'and':\n",
    "        final_tuple = set(clause1_tuple) & set(clause2_tuple)\n",
    "      \n",
    "\n",
    "    elif len(l)==3:\n",
    "      cardinality1 = l[0] \n",
    "      entity2 = l[1] \n",
    "      cardinality2 = l[2]\n",
    "      clause1_list,cnt1 = asso_rule.template2(entity1,cardinality1)\n",
    "      clause2_list,cnt2 = asso_rule.template2(entity2,cardinality2) \n",
    "      clause1_tuple = tuple(tuple(sub) for sub in clause1_list)\n",
    "      clause2_tuple = tuple(tuple(sub) for sub in clause2_list)\n",
    "      if con == 'or':\n",
    "        final_tuple = set(clause1_tuple) | set(clause2_tuple)\n",
    "      elif con == 'and':\n",
    "        final_tuple = set(clause1_tuple) & set(clause2_tuple)\n",
    "    return final_tuple,len(final_tuple)\n",
    "\n",
    "\n",
    "\n",
    "\n"
   ]
  },
  {
   "cell_type": "code",
   "execution_count": 17,
   "metadata": {
    "colab": {
     "base_uri": "https://localhost:8080/",
     "height": 35
    },
    "id": "QwQlprrI198X",
    "outputId": "14d69676-f0e1-487c-82fe-f481df9f7d4f"
   },
   "outputs": [
    {
     "data": {
      "text/plain": [
       "(set(), 0)"
      ]
     },
     "execution_count": 17,
     "metadata": {},
     "output_type": "execute_result"
    }
   ],
   "source": [
    "asso_rule.template3(\"1and2\", \"HEAD\", \"ANY\", ['G10_Down'], \"BODY\", 2)"
   ]
  },
  {
   "cell_type": "code",
   "execution_count": 18,
   "metadata": {
    "colab": {
     "base_uri": "https://localhost:8080/",
     "height": 243
    },
    "id": "2EXv1P8ACQRF",
    "outputId": "1d3b3009-83eb-41a8-a20a-d08007906d1d"
   },
   "outputs": [
    {
     "data": {
      "text/plain": [
       "({('G59_Up', 'G72_Up'), ('G59_Up', 'G82_Down')}, 2)"
      ]
     },
     "execution_count": 18,
     "metadata": {},
     "output_type": "execute_result"
    }
   ],
   "source": [
    "asso_rule.template3(\"2and2\", \"HEAD\", 1, \"BODY\", 2)"
   ]
  },
  {
   "cell_type": "code",
   "execution_count": 19,
   "metadata": {
    "colab": {
     "base_uri": "https://localhost:8080/",
     "height": 243
    },
    "id": "klJnmIgP_l33",
    "outputId": "8ed9a998-7605-4384-f10c-05fb7829d70e"
   },
   "outputs": [
    {
     "data": {
      "text/plain": [
       "({('G59_Up', 'G72_Up'), ('G59_Up', 'G82_Down'), ('G82_Down',), ('G96_Down',)},\n",
       " 4)"
      ]
     },
     "execution_count": 19,
     "metadata": {},
     "output_type": "execute_result"
    }
   ],
   "source": [
    "asso_rule.template3(\"1and2\", \"HEAD\", 1, ['G82_Down','G96_Down','G13_Down', 'G59_Up'], \"BODY\", 1)#, ['G82_Down','G96_Down','G13_Down', 'G59_Up'])"
   ]
  },
  {
   "cell_type": "code",
   "execution_count": 20,
   "metadata": {
    "colab": {
     "base_uri": "https://localhost:8080/",
     "height": 287
    },
    "id": "77a98RXmqBXd",
    "outputId": "c238296d-e498-4ed2-e164-52fb87061f0d"
   },
   "outputs": [
    {
     "data": {
      "text/plain": [
       "([], 0)"
      ]
     },
     "execution_count": 20,
     "metadata": {},
     "output_type": "execute_result"
    }
   ],
   "source": [
    "asso_rule.template2(\"RULE\", 5)"
   ]
  },
  {
   "cell_type": "code",
   "execution_count": 21,
   "metadata": {
    "colab": {
     "base_uri": "https://localhost:8080/",
     "height": 287
    },
    "id": "KRJ6yeXwVvx0",
    "outputId": "dab68977-dc46-4514-cc89-7db62765c991"
   },
   "outputs": [
    {
     "data": {
      "text/plain": [
       "([], 0)"
      ]
     },
     "execution_count": 21,
     "metadata": {},
     "output_type": "execute_result"
    }
   ],
   "source": [
    "asso_rule.template1(\"RULE\",4,['G82_Down','G96_Down','G13_Down', 'G59_Up'])"
   ]
  },
  {
   "cell_type": "code",
   "execution_count": 22,
   "metadata": {
    "colab": {
     "base_uri": "https://localhost:8080/",
     "height": 166
    },
    "id": "baX8BuSzl399",
    "outputId": "5333c71f-19d8-4413-c0cf-d21ac670140a"
   },
   "outputs": [
    {
     "data": {
      "text/plain": [
       "[['G96_Down', '->', 'G59_Up', 'G72_Up'],\n",
       " ['G72_Up', 'G96_Down', '->', 'G59_Up'],\n",
       " ['G59_Up', 'G96_Down', '->', 'G72_Up'],\n",
       " ['G59_Up', 'G72_Up', '->', 'G96_Down'],\n",
       " ['G82_Down', '->', 'G59_Up', 'G72_Up'],\n",
       " ['G72_Up', '->', 'G59_Up', 'G82_Down'],\n",
       " ['G72_Up', 'G82_Down', '->', 'G59_Up'],\n",
       " ['G59_Up', 'G82_Down', '->', 'G72_Up'],\n",
       " ['G59_Up', 'G72_Up', '->', 'G82_Down']]"
      ]
     },
     "execution_count": 22,
     "metadata": {},
     "output_type": "execute_result"
    }
   ],
   "source": [
    "rule_list"
   ]
  },
  {
   "cell_type": "code",
   "execution_count": 26,
   "metadata": {
    "id": "1a1jBjLamHPo"
   },
   "outputs": [
    {
     "data": {
      "text/plain": [
       "([['G96_Down', '->', 'G59_Up', 'G72_Up'],\n",
       "  ['G72_Up', 'G96_Down', '->', 'G59_Up'],\n",
       "  ['G59_Up', 'G96_Down', '->', 'G72_Up'],\n",
       "  ['G59_Up', 'G72_Up', '->', 'G96_Down'],\n",
       "  ['G82_Down', '->', 'G59_Up', 'G72_Up'],\n",
       "  ['G72_Up', '->', 'G59_Up', 'G82_Down'],\n",
       "  ['G72_Up', 'G82_Down', '->', 'G59_Up'],\n",
       "  ['G59_Up', 'G82_Down', '->', 'G72_Up'],\n",
       "  ['G59_Up', 'G72_Up', '->', 'G82_Down']],\n",
       " 9)"
      ]
     },
     "execution_count": 26,
     "metadata": {},
     "output_type": "execute_result"
    }
   ],
   "source": [
    "asso_rule.template1(\"RULE\", \"ANY\", ['G59_Up'])"
   ]
  },
  {
   "cell_type": "code",
   "execution_count": 27,
   "metadata": {},
   "outputs": [
    {
     "data": {
      "text/plain": [
       "([['G59_Up', 'G72_Up'],\n",
       "  ['G59_Up'],\n",
       "  ['G59_Up', 'G72_Up'],\n",
       "  ['G59_Up', 'G82_Down'],\n",
       "  ['G59_Up']],\n",
       " 5)"
      ]
     },
     "execution_count": 27,
     "metadata": {},
     "output_type": "execute_result"
    }
   ],
   "source": [
    "asso_rule.template1(\"BODY\", 1, ['G59_Up', 'G10_Down'])"
   ]
  },
  {
   "cell_type": "code",
   "execution_count": 28,
   "metadata": {},
   "outputs": [
    {
     "data": {
      "text/plain": [
       "([['G59_Up', 'G96_Down'],\n",
       "  ['G59_Up', 'G72_Up'],\n",
       "  ['G59_Up', 'G82_Down'],\n",
       "  ['G59_Up', 'G72_Up']],\n",
       " 4)"
      ]
     },
     "execution_count": 28,
     "metadata": {},
     "output_type": "execute_result"
    }
   ],
   "source": [
    "asso_rule.template1(\"HEAD\", \"ANY\", ['G59_Up'])"
   ]
  },
  {
   "cell_type": "code",
   "execution_count": null,
   "metadata": {},
   "outputs": [],
   "source": []
  }
 ],
 "metadata": {
  "colab": {
   "collapsed_sections": [],
   "name": "Copy of Fastworking.ipynb",
   "provenance": []
  },
  "kernelspec": {
   "display_name": "Python 3",
   "language": "python",
   "name": "python3"
  },
  "language_info": {
   "codemirror_mode": {
    "name": "ipython",
    "version": 3
   },
   "file_extension": ".py",
   "mimetype": "text/x-python",
   "name": "python",
   "nbconvert_exporter": "python",
   "pygments_lexer": "ipython3",
   "version": "3.7.6"
  }
 },
 "nbformat": 4,
 "nbformat_minor": 1
}
